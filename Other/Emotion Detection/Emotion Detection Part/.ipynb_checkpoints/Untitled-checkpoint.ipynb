{
 "cells": [
  {
   "cell_type": "code",
   "execution_count": 9,
   "id": "4c44945b-77a8-4c68-81af-a6a15f764655",
   "metadata": {},
   "outputs": [],
   "source": [
    "import emo_model"
   ]
  },
  {
   "cell_type": "code",
   "execution_count": null,
   "id": "4999d3eb-851f-4819-bc22-d1878f7effe2",
   "metadata": {},
   "outputs": [],
   "source": [
    "detect"
   ]
  }
 ],
 "metadata": {
  "kernelspec": {
   "display_name": "Python 3 (ipykernel)",
   "language": "python",
   "name": "python3"
  },
  "language_info": {
   "codemirror_mode": {
    "name": "ipython",
    "version": 3
   },
   "file_extension": ".py",
   "mimetype": "text/x-python",
   "name": "python",
   "nbconvert_exporter": "python",
   "pygments_lexer": "ipython3",
   "version": "3.10.13"
  }
 },
 "nbformat": 4,
 "nbformat_minor": 5
}
